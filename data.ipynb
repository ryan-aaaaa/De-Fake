{
 "cells": [
  {
   "cell_type": "markdown",
   "id": "9cc8db76",
   "metadata": {},
   "source": [
    "### get real prompt"
   ]
  },
  {
   "cell_type": "code",
   "execution_count": null,
   "id": "ecf83bcf",
   "metadata": {},
   "outputs": [],
   "source": [
    "from pycocotools.coco import COCO\n",
    "\n",
    "coco = COCO('/mnt/d/data/learning/ML/defake/mscoco/annotations/captions_train2014.json')\n",
    "imgId_list = coco.getImgIds()\n",
    "imgId_list.sort()\n",
    "\n",
    "from tqdm import tqdm\n",
    "with open('/mnt/d/data/learning/ML/defake/mscoco/real_prompts.txt', 'w') as f:\n",
    "\tfor imgId in tqdm(imgId_list):\n",
    "\t\tannIds = coco.getAnnIds(imgId)\n",
    "\t\tcaption = coco.loadAnns(annIds)[0]['caption'].strip() # select first caption\n",
    "\t\tcaption = caption.replace('\\n', ' ')\n",
    "\t\tf.write(caption.strip() + '\\n')\n",
    "  \n",
    "with open('/mnt/d/data/learning/ML/defake/mscoco/real_prompts.txt', 'r') as f:\n",
    "    lines = f.readlines()\n",
    "    \n",
    "len(lines)"
   ]
  },
  {
   "cell_type": "markdown",
   "id": "5d64145b",
   "metadata": {},
   "source": [
    "### generate prompt with real image"
   ]
  },
  {
   "cell_type": "code",
   "execution_count": null,
   "id": "a4298912",
   "metadata": {},
   "outputs": [],
   "source": [
    "import os\n",
    "import torch\n",
    "from PIL import Image\n",
    "from natsort import natsorted\n",
    "from transformers import BlipProcessor, BlipForConditionalGeneration\n",
    "from tqdm import tqdm\n",
    "\n",
    "processor = BlipProcessor.from_pretrained(\"Salesforce/blip-image-captioning-base\")\n",
    "model = BlipForConditionalGeneration.from_pretrained(\"Salesforce/blip-image-captioning-base\", torch_dtype=torch.float16).to(\"cuda\")\n",
    "image_dir = '/mnt/d/data/learning/ML/defake/mscoco/train2014' # <- 改路徑\n",
    "image_filenames = natsorted(os.listdir(image_dir))\n",
    "\n",
    "with open('/mnt/d/data/learning/ML/defake/mscoco/real_img_fake_prompts.txt', 'w') as f: # <- 改路徑\n",
    "\tfor filename in tqdm(image_filenames):\n",
    "\t\traw_image = Image.open(os.path.join(image_dir, filename)).convert('RGB')\n",
    "\t\tinputs = processor(raw_image, return_tensors=\"pt\").to(\"cuda\", torch.float16)\n",
    "\t\tout = model.generate(**inputs)\n",
    "\t\tcaption = processor.decode(out[0], skip_special_tokens=True)\n",
    "\t\tf.write(caption + '\\n')\n"
   ]
  },
  {
   "cell_type": "markdown",
   "id": "c12ecae4",
   "metadata": {},
   "source": [
    "### generate prompt with fake image"
   ]
  },
  {
   "cell_type": "code",
   "execution_count": null,
   "id": "c1906c38",
   "metadata": {},
   "outputs": [],
   "source": [
    "import os\n",
    "import torch\n",
    "from PIL import Image\n",
    "from natsort import natsorted\n",
    "from transformers import BlipProcessor, BlipForConditionalGeneration\n",
    "\n",
    "processor = BlipProcessor.from_pretrained(\"Salesforce/blip-image-captioning-base\")\n",
    "model = BlipForConditionalGeneration.from_pretrained(\"Salesforce/blip-image-captioning-base\", torch_dtype=torch.float16).to(\"cuda\")\n",
    "image_dir = '/mnt/d/data/learning/ML/defake/mscoco/train2014' # <- 改路徑\n",
    "image_filenames = natsorted(os.listdir(image_dir))\n",
    "\n",
    "with open('/mnt/d/data/learning/ML/defake/mscoco/fake_img_fake_prompts.txt', 'w') as f: # # <- 改路徑\n",
    "\tfor filename in image_filenames:\n",
    "\t\traw_image = Image.open(os.path.join(image_dir, filename)).convert('RGB')\n",
    "\t\tinputs = processor(raw_image, return_tensors=\"pt\").to(\"cuda\", torch.float16)\n",
    "\t\tout = model.generate(**inputs)\n",
    "\t\tcaption = processor.decode(out[0], skip_special_tokens=True)\n",
    "\t\tf.write(caption + '\\n')"
   ]
  }
 ],
 "metadata": {
  "kernelspec": {
   "display_name": "defake",
   "language": "python",
   "name": "python3"
  },
  "language_info": {
   "codemirror_mode": {
    "name": "ipython",
    "version": 3
   },
   "file_extension": ".py",
   "mimetype": "text/x-python",
   "name": "python",
   "nbconvert_exporter": "python",
   "pygments_lexer": "ipython3",
   "version": "3.10.17"
  }
 },
 "nbformat": 4,
 "nbformat_minor": 5
}
